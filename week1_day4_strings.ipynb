{
  "nbformat": 4,
  "nbformat_minor": 0,
  "metadata": {
    "colab": {
      "provenance": [],
      "authorship_tag": "ABX9TyMHCfdg8gwiYGRCW8mZU4bm",
      "include_colab_link": true
    },
    "kernelspec": {
      "name": "python3",
      "display_name": "Python 3"
    },
    "language_info": {
      "name": "python"
    }
  },
  "cells": [
    {
      "cell_type": "markdown",
      "metadata": {
        "id": "view-in-github",
        "colab_type": "text"
      },
      "source": [
        "<a href=\"https://colab.research.google.com/github/stanley1208/AI-Learning/blob/main/week1_day4_strings.ipynb\" target=\"_parent\"><img src=\"https://colab.research.google.com/assets/colab-badge.svg\" alt=\"Open In Colab\"/></a>"
      ]
    },
    {
      "cell_type": "code",
      "execution_count": 1,
      "metadata": {
        "colab": {
          "base_uri": "https://localhost:8080/"
        },
        "id": "r_R1Vb7HmTlp",
        "outputId": "1452f456-385f-4a88-9560-a2d3afd93a70"
      },
      "outputs": [
        {
          "output_type": "stream",
          "name": "stdout",
          "text": [
            "AI ENGINEER\n",
            "contains 'AI'? True\n"
          ]
        }
      ],
      "source": [
        "text=\"AI engineer\"\n",
        "print(text.upper())\n",
        "print(\"contains 'AI'?\", \"AI\" in text)"
      ]
    },
    {
      "cell_type": "code",
      "source": [
        "gpu={\"model\":\"RTX 5090\",\"memory\":1000,\"brand\":\"GGG\"}\n",
        "print(\"GPU model\", gpu[\"model\"])\n",
        "gpu[\"memory\"]+=5000000\n",
        "print(\"GPU memory\", gpu[\"memory\"])"
      ],
      "metadata": {
        "colab": {
          "base_uri": "https://localhost:8080/"
        },
        "id": "4mD2qHNXmmsL",
        "outputId": "a437f965-96cb-49a1-f848-74df4dc23185"
      },
      "execution_count": 2,
      "outputs": [
        {
          "output_type": "stream",
          "name": "stdout",
          "text": [
            "GPU model RTX 5090\n",
            "GPU memory 5001000\n"
          ]
        }
      ]
    },
    {
      "cell_type": "code",
      "source": [
        "stcard={\"name\":\"Stanley\",\"age\":24,\"gender\":\"male\"}\n",
        "print(f\"{stcard['name']} is {stcard['age']} years old\")"
      ],
      "metadata": {
        "colab": {
          "base_uri": "https://localhost:8080/"
        },
        "id": "c2Gfr9FwnFry",
        "outputId": "8b63329c-2902-4339-c691-9633a4c8e6cd"
      },
      "execution_count": 3,
      "outputs": [
        {
          "output_type": "stream",
          "name": "stdout",
          "text": [
            "Stanley is 24 years old\n"
          ]
        }
      ]
    },
    {
      "cell_type": "code",
      "source": [],
      "metadata": {
        "id": "fD8mucLjnbzl"
      },
      "execution_count": null,
      "outputs": []
    }
  ]
}