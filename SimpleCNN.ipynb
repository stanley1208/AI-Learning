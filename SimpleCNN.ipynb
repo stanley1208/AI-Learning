{
  "nbformat": 4,
  "nbformat_minor": 0,
  "metadata": {
    "colab": {
      "provenance": [],
      "authorship_tag": "ABX9TyPk/WApVzqWSd+fEU2necwN",
      "include_colab_link": true
    },
    "kernelspec": {
      "name": "python3",
      "display_name": "Python 3"
    },
    "language_info": {
      "name": "python"
    }
  },
  "cells": [
    {
      "cell_type": "markdown",
      "metadata": {
        "id": "view-in-github",
        "colab_type": "text"
      },
      "source": [
        "<a href=\"https://colab.research.google.com/github/stanley1208/AI-Learning/blob/main/SimpleCNN.ipynb\" target=\"_parent\"><img src=\"https://colab.research.google.com/assets/colab-badge.svg\" alt=\"Open In Colab\"/></a>"
      ]
    },
    {
      "cell_type": "code",
      "execution_count": 1,
      "metadata": {
        "id": "M9FkyLvJXMCL",
        "colab": {
          "base_uri": "https://localhost:8080/"
        },
        "outputId": "7bf275c1-35f4-4eb7-d0a6-7d16ea84f574"
      },
      "outputs": [
        {
          "output_type": "execute_result",
          "data": {
            "text/plain": [
              "<torch._C.Generator at 0x7d4fc508cd90>"
            ]
          },
          "metadata": {},
          "execution_count": 1
        }
      ],
      "source": [
        "import torch\n",
        "import torch.nn as nn\n",
        "torch.manual_seed(0)"
      ]
    },
    {
      "cell_type": "code",
      "source": [
        "# fake 1-channel image: 1×1×5×5 (N=1, C=1,H=W=5)\n",
        "x=torch.tensor([[[[1,2,0,0,0],\n",
        "                  [5,3,0,0,0],\n",
        "                  [0,0,0,7,8],\n",
        "                  [0,0,0,2,3],\n",
        "                  [0,0,0,1,1]\n",
        "               ]]],dtype=torch.float32)\n",
        "\n",
        "# Conv: in=1, out=1, kernel 3×3, stride=1, no padding, no bias (to see pure dot-products)\n",
        "\n",
        "conv=nn.Conv2d(in_channels=1,out_channels=1,kernel_size=3,bias=False)\n",
        "# print(\"filter weights\",conv.weight)\n",
        "\n",
        "# Initialize weights as a vertical-edge detector: [[-1,0,1], repeated 3 rows]\n",
        "with torch.no_grad():\n",
        "  k=torch.tensor([[[-1.,0.,1.],\n",
        "                   [-1.,0.,1.],\n",
        "                   [-1.,0.,1.]]])\n",
        "\n",
        "  conv.weight.copy_(k.view(1,1,3,3))\n",
        "\n",
        "# print(\"input image:\",x)\n",
        "print(\"kernel:\",conv.weight[0,0])\n",
        "y=conv(x)\n",
        "print(\"output feature map shape:\",y.shape)\n",
        "print(\"output feature map:\",y[0,0])"
      ],
      "metadata": {
        "colab": {
          "base_uri": "https://localhost:8080/"
        },
        "id": "fWenOvaGXj64",
        "outputId": "1e71a388-f052-4c03-bc01-6429e145a53f"
      },
      "execution_count": 3,
      "outputs": [
        {
          "output_type": "stream",
          "name": "stdout",
          "text": [
            "kernel: tensor([[-1.,  0.,  1.],\n",
            "        [-1.,  0.,  1.],\n",
            "        [-1.,  0.,  1.]], grad_fn=<SelectBackward0>)\n",
            "output feature map shape: torch.Size([1, 1, 3, 3])\n",
            "output feature map: tensor([[-6.,  2.,  8.],\n",
            "        [-5.,  6., 11.],\n",
            "        [ 0., 10., 12.]], grad_fn=<SelectBackward0>)\n"
          ]
        }
      ]
    },
    {
      "cell_type": "code",
      "source": [],
      "metadata": {
        "id": "ktCUWtHzZRSu"
      },
      "execution_count": null,
      "outputs": []
    }
  ]
}