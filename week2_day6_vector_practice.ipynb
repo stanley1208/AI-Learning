{
  "nbformat": 4,
  "nbformat_minor": 0,
  "metadata": {
    "colab": {
      "provenance": [],
      "authorship_tag": "ABX9TyMjWpEEUJhzDs2hJgQhnDnJ",
      "include_colab_link": true
    },
    "kernelspec": {
      "name": "python3",
      "display_name": "Python 3"
    },
    "language_info": {
      "name": "python"
    }
  },
  "cells": [
    {
      "cell_type": "markdown",
      "metadata": {
        "id": "view-in-github",
        "colab_type": "text"
      },
      "source": [
        "<a href=\"https://colab.research.google.com/github/stanley1208/AI-Learning/blob/main/week2_day6_vector_practice.ipynb\" target=\"_parent\"><img src=\"https://colab.research.google.com/assets/colab-badge.svg\" alt=\"Open In Colab\"/></a>"
      ]
    },
    {
      "cell_type": "code",
      "execution_count": 1,
      "metadata": {
        "id": "RN3L6RihaU-w"
      },
      "outputs": [],
      "source": [
        "import numpy as np"
      ]
    },
    {
      "cell_type": "code",
      "source": [
        "a=np.array([3,4])\n",
        "b=np.array([1,2])\n",
        "\n",
        "print(\"Vector a:\",a)\n",
        "print(\"Vector b:\",b)"
      ],
      "metadata": {
        "colab": {
          "base_uri": "https://localhost:8080/"
        },
        "id": "V3p3yKu5aeqk",
        "outputId": "e3acf8ef-d80a-4b40-9374-4831829a1d32"
      },
      "execution_count": 2,
      "outputs": [
        {
          "output_type": "stream",
          "name": "stdout",
          "text": [
            "Vector a: [3 4]\n",
            "Vector b: [1 2]\n"
          ]
        }
      ]
    },
    {
      "cell_type": "code",
      "source": [
        "print(\"Vector a + b:\",a+b)\n",
        "print(\"3*a:\",3*a)"
      ],
      "metadata": {
        "colab": {
          "base_uri": "https://localhost:8080/"
        },
        "id": "XvriI2pJaqjn",
        "outputId": "73b4e382-73bf-4bf5-a97e-36d9c0410935"
      },
      "execution_count": 3,
      "outputs": [
        {
          "output_type": "stream",
          "name": "stdout",
          "text": [
            "Vector a + b: [4 6]\n",
            "3*a: [ 9 12]\n"
          ]
        }
      ]
    },
    {
      "cell_type": "code",
      "source": [
        "mag_a=np.linalg.norm(a)\n",
        "print(\"||a||\",mag_a)\n",
        "\n"
      ],
      "metadata": {
        "colab": {
          "base_uri": "https://localhost:8080/"
        },
        "id": "lmIi1jDMaz8b",
        "outputId": "4397e23a-aad7-43e8-bfc9-6342ca708483"
      },
      "execution_count": 4,
      "outputs": [
        {
          "output_type": "stream",
          "name": "stdout",
          "text": [
            "||a|| 5.0\n"
          ]
        }
      ]
    },
    {
      "cell_type": "code",
      "source": [
        "dot=np.dot(a,b)\n",
        "cos_theta=dot/(np.linalg.norm(a)*np.linalg.norm(b))\n",
        "print(\"cos(theta):\",cos_theta)\n",
        "print(\"Cosine og angle=\",cos_theta)"
      ],
      "metadata": {
        "colab": {
          "base_uri": "https://localhost:8080/"
        },
        "id": "uEwwfgWcbAD4",
        "outputId": "0160ee9e-010b-42b4-adf3-2ff909923ed1"
      },
      "execution_count": 5,
      "outputs": [
        {
          "output_type": "stream",
          "name": "stdout",
          "text": [
            "cos(theta): 0.9838699100999074\n",
            "Cosine og angle= 0.9838699100999074\n"
          ]
        }
      ]
    },
    {
      "cell_type": "code",
      "source": [],
      "metadata": {
        "id": "kzDQ_-VabWyY"
      },
      "execution_count": null,
      "outputs": []
    }
  ]
}