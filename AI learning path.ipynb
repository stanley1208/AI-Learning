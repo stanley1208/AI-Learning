{
  "nbformat": 4,
  "nbformat_minor": 0,
  "metadata": {
    "colab": {
      "provenance": [],
      "authorship_tag": "ABX9TyMUIGdg8+bjkvxrmtlr4B/Z",
      "include_colab_link": true
    },
    "kernelspec": {
      "name": "python3",
      "display_name": "Python 3"
    },
    "language_info": {
      "name": "python"
    }
  },
  "cells": [
    {
      "cell_type": "markdown",
      "metadata": {
        "id": "view-in-github",
        "colab_type": "text"
      },
      "source": [
        "<a href=\"https://colab.research.google.com/github/stanley1208/AI-Learning/blob/main/AI%20learning%20path.ipynb\" target=\"_parent\"><img src=\"https://colab.research.google.com/assets/colab-badge.svg\" alt=\"Open In Colab\"/></a>"
      ]
    },
    {
      "cell_type": "code",
      "execution_count": 2,
      "metadata": {
        "colab": {
          "base_uri": "https://localhost:8080/"
        },
        "id": "TGPepwNc5FuV",
        "outputId": "f8b2c7eb-6b6b-4b4b-80bc-9b917cd609cd"
      },
      "outputs": [
        {
          "output_type": "stream",
          "name": "stdout",
          "text": [
            "Your name: Stanley\n",
            "Your age: 24\n",
            "Hi Stanley, next year you will be 25.\n"
          ]
        }
      ],
      "source": [
        "name=input(\"Your name: \")\n",
        "age=int(input(\"Your age: \"))\n",
        "print(f\"Hi {name}, next year you will be {age+1}.\")"
      ]
    },
    {
      "cell_type": "code",
      "source": [
        "prices=[12.99, 5.50, 3.20, 19.99, 7.25]\n",
        "avg_price=sum(prices)/len(prices)\n",
        "print(\"Count:\", len(prices))\n",
        "print(\"min/Max:\", min(prices), max(prices))\n",
        "print(\"Sum:\", sum(prices))\n",
        "print(\"Average:\", round(avg_price, 2))"
      ],
      "metadata": {
        "colab": {
          "base_uri": "https://localhost:8080/"
        },
        "id": "Ro1VNHFQ5M7-",
        "outputId": "8b5caf3f-e9d2-4b01-9bb0-ec52f97cdda6"
      },
      "execution_count": 7,
      "outputs": [
        {
          "output_type": "stream",
          "name": "stdout",
          "text": [
            "Count: 5\n",
            "min/Max: 3.2 19.99\n",
            "Sum: 48.93\n",
            "Average: 9.79\n"
          ]
        }
      ]
    },
    {
      "cell_type": "code",
      "source": [
        "def discount(price,pct=10):\n",
        "  return price*(1-(pct/100))\n",
        "\n",
        "discounted=[]\n",
        "for p in prices:\n",
        "  discounted.append(discount(p,pct=100))\n",
        "print(\"discounted: \", [round(x,2) for x in discounted])"
      ],
      "metadata": {
        "colab": {
          "base_uri": "https://localhost:8080/"
        },
        "id": "GbyucYpR6N-N",
        "outputId": "6c142d9a-a8fb-4d8e-e423-1b885dbde45b"
      },
      "execution_count": 15,
      "outputs": [
        {
          "output_type": "stream",
          "name": "stdout",
          "text": [
            "discounted:  [0.0, 0.0, 0.0, 0.0, 0.0]\n"
          ]
        }
      ]
    },
    {
      "cell_type": "code",
      "source": [],
      "metadata": {
        "id": "ouhEecEI7Le_"
      },
      "execution_count": null,
      "outputs": []
    }
  ]
}