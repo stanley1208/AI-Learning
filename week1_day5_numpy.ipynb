{
  "nbformat": 4,
  "nbformat_minor": 0,
  "metadata": {
    "colab": {
      "provenance": [],
      "authorship_tag": "ABX9TyMTQQdVq0cQXjhKwzIHWBWS",
      "include_colab_link": true
    },
    "kernelspec": {
      "name": "python3",
      "display_name": "Python 3"
    },
    "language_info": {
      "name": "python"
    }
  },
  "cells": [
    {
      "cell_type": "markdown",
      "metadata": {
        "id": "view-in-github",
        "colab_type": "text"
      },
      "source": [
        "<a href=\"https://colab.research.google.com/github/stanley1208/AI-Learning/blob/main/week1_day5_numpy.ipynb\" target=\"_parent\"><img src=\"https://colab.research.google.com/assets/colab-badge.svg\" alt=\"Open In Colab\"/></a>"
      ]
    },
    {
      "cell_type": "code",
      "execution_count": 1,
      "metadata": {
        "colab": {
          "base_uri": "https://localhost:8080/"
        },
        "id": "HrQC25x14_2U",
        "outputId": "46d82148-1069-44f3-bd19-07c78c5f44ef"
      },
      "outputs": [
        {
          "output_type": "stream",
          "name": "stdout",
          "text": [
            "a+b= [5 7 9]\n",
            "a*b= [ 4 10 18]\n"
          ]
        }
      ],
      "source": [
        "import numpy as np\n",
        "\n",
        "\n",
        "a=np.array([1,2,3])\n",
        "b=np.array([4,5,6])\n",
        "print(\"a+b=\",a+b)\n",
        "print(\"a*b=\",a*b)\n"
      ]
    },
    {
      "cell_type": "code",
      "source": [
        "matrix=np.array([[1,2,3],\n",
        "                 [4,5,6]])\n",
        "print(\"Shape:\",matrix.shape)\n",
        "print(\"Transpose:\",matrix.T)\n",
        "\n"
      ],
      "metadata": {
        "colab": {
          "base_uri": "https://localhost:8080/"
        },
        "id": "IrJgh5pC5TSF",
        "outputId": "84714557-0bdf-486a-9be7-51ab407b1fc2"
      },
      "execution_count": 3,
      "outputs": [
        {
          "output_type": "stream",
          "name": "stdout",
          "text": [
            "Shape: (2, 3)\n",
            "Transpose: [[1 4]\n",
            " [2 5]\n",
            " [3 6]]\n"
          ]
        }
      ]
    },
    {
      "cell_type": "code",
      "source": [
        "z=np.zeros((2,3))\n",
        "r=np.random.rand(2,3)\n",
        "print(\"Zeros:\\n\",z)\n",
        "print(\"Random:\\n\",r)"
      ],
      "metadata": {
        "colab": {
          "base_uri": "https://localhost:8080/"
        },
        "id": "rR_GYeQr5rWV",
        "outputId": "0511c7fc-92e0-492f-93ff-bdcaebb7c084"
      },
      "execution_count": 5,
      "outputs": [
        {
          "output_type": "stream",
          "name": "stdout",
          "text": [
            "Zeros:\n",
            " [[0. 0. 0.]\n",
            " [0. 0. 0.]]\n",
            "Random:\n",
            " [[0.24506086 0.97209791 0.59033137]\n",
            " [0.89170969 0.60351543 0.8219558 ]]\n"
          ]
        }
      ]
    },
    {
      "cell_type": "code",
      "source": [
        "data=np.array([10,20,30,40])\n",
        "print(\"Mean:\", data.mean())\n",
        "print(\"std:\",data.std())\n",
        "print(\"Normalize:\",data-data.mean()/data.std())"
      ],
      "metadata": {
        "colab": {
          "base_uri": "https://localhost:8080/"
        },
        "id": "-YcPBkMS59-c",
        "outputId": "1308be10-88f4-4b04-bf8a-0dad2cd7320e"
      },
      "execution_count": 7,
      "outputs": [
        {
          "output_type": "stream",
          "name": "stdout",
          "text": [
            "Mean: 25.0\n",
            "std: 11.180339887498949\n",
            "Normalize: [ 7.76393202 17.76393202 27.76393202 37.76393202]\n"
          ]
        }
      ]
    },
    {
      "cell_type": "code",
      "source": [],
      "metadata": {
        "id": "4yRhsHet6fl7"
      },
      "execution_count": null,
      "outputs": []
    }
  ]
}