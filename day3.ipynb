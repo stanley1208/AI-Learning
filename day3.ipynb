{
  "nbformat": 4,
  "nbformat_minor": 0,
  "metadata": {
    "colab": {
      "provenance": [],
      "authorship_tag": "ABX9TyPHZO3qEaJfuXRjwqVqqkLM",
      "include_colab_link": true
    },
    "kernelspec": {
      "name": "python3",
      "display_name": "Python 3"
    },
    "language_info": {
      "name": "python"
    }
  },
  "cells": [
    {
      "cell_type": "markdown",
      "metadata": {
        "id": "view-in-github",
        "colab_type": "text"
      },
      "source": [
        "<a href=\"https://colab.research.google.com/github/stanley1208/AI-Learning/blob/main/day3.ipynb\" target=\"_parent\"><img src=\"https://colab.research.google.com/assets/colab-badge.svg\" alt=\"Open In Colab\"/></a>"
      ]
    },
    {
      "cell_type": "code",
      "execution_count": 2,
      "metadata": {
        "colab": {
          "base_uri": "https://localhost:8080/"
        },
        "id": "_bi8Cjhvahg7",
        "outputId": "a5619b6c-07a4-4b4c-94b0-82c999db20e4"
      },
      "outputs": [
        {
          "output_type": "stream",
          "name": "stdout",
          "text": [
            "1\n",
            "4\n",
            "9\n",
            "16\n",
            "25\n"
          ]
        }
      ],
      "source": [
        "numbers=[1,2,3,4,5]\n",
        "for n in numbers:\n",
        "  print(n**2)"
      ]
    },
    {
      "cell_type": "code",
      "source": [
        "for i in range(5):\n",
        "  print(\"Iteration:\", i)"
      ],
      "metadata": {
        "colab": {
          "base_uri": "https://localhost:8080/"
        },
        "id": "BWmtsnNHaq2Q",
        "outputId": "9e549d18-4e63-42ac-c6b1-b85a5eafa4ab"
      },
      "execution_count": 3,
      "outputs": [
        {
          "output_type": "stream",
          "name": "stdout",
          "text": [
            "Iteration: 0\n",
            "Iteration: 1\n",
            "Iteration: 2\n",
            "Iteration: 3\n",
            "Iteration: 4\n"
          ]
        }
      ]
    },
    {
      "cell_type": "code",
      "source": [
        "for i in range(3):\n",
        "  for j in range(2):\n",
        "    print(f\"i = {i}, j = {j}\")"
      ],
      "metadata": {
        "colab": {
          "base_uri": "https://localhost:8080/"
        },
        "id": "GAt6JwqCa1Sd",
        "outputId": "b6d043d2-31fd-400d-ccd0-98d44f70bb69"
      },
      "execution_count": 4,
      "outputs": [
        {
          "output_type": "stream",
          "name": "stdout",
          "text": [
            "i = 0, j = 0\n",
            "i = 0, j = 1\n",
            "i = 1, j = 0\n",
            "i = 1, j = 1\n",
            "i = 2, j = 0\n",
            "i = 2, j = 1\n"
          ]
        }
      ]
    },
    {
      "cell_type": "code",
      "source": [
        "squares=[n**2 for n in range(10)]\n",
        "print(squares)"
      ],
      "metadata": {
        "colab": {
          "base_uri": "https://localhost:8080/"
        },
        "id": "Y5yRZkIZbDPH",
        "outputId": "ea7023a0-d83c-439c-ec72-87e3eefa1782"
      },
      "execution_count": 6,
      "outputs": [
        {
          "output_type": "stream",
          "name": "stdout",
          "text": [
            "[0, 1, 4, 9, 16, 25, 36, 49, 64, 81]\n"
          ]
        }
      ]
    },
    {
      "cell_type": "code",
      "source": [
        "basket = [3.5, 12.9, 8.2, 4.0, 9.1]\n",
        "total=sum(basket)\n",
        "avg=total/len(basket)\n",
        "above8=[p for p in basket if p>8]\n",
        "\n",
        "print(\"total:\", total)\n",
        "print(\"average:\",avg)\n",
        "print(\"items above 8:\",len(above8))\n"
      ],
      "metadata": {
        "colab": {
          "base_uri": "https://localhost:8080/"
        },
        "id": "agJz7qnTbKY-",
        "outputId": "b6d68aab-13d1-4739-8c9c-7a3ee2819c57"
      },
      "execution_count": 8,
      "outputs": [
        {
          "output_type": "stream",
          "name": "stdout",
          "text": [
            "total: 37.7\n",
            "average: 7.540000000000001\n",
            "items above 8: 3\n"
          ]
        }
      ]
    },
    {
      "cell_type": "code",
      "source": [
        "def analyze(scores):\n",
        "  above90=[p for p in scores if p>90]\n",
        "  print(\"Highest: \",max(scores))\n",
        "  print(\"lowest: \",min(scores))\n",
        "  print(\"average:\", sum(scores)/len(scores))\n",
        "  print(\"items above 90:\", len(above90))"
      ],
      "metadata": {
        "id": "oMd3s3H2brWj"
      },
      "execution_count": 12,
      "outputs": []
    },
    {
      "cell_type": "code",
      "source": [
        "analyze([10,20,30,40,50,60,70,80,90,100])"
      ],
      "metadata": {
        "colab": {
          "base_uri": "https://localhost:8080/"
        },
        "id": "yJSkKPGXb7JH",
        "outputId": "93fd8014-dd00-48e5-c356-daca9ef151c4"
      },
      "execution_count": 13,
      "outputs": [
        {
          "output_type": "stream",
          "name": "stdout",
          "text": [
            "Highest:  100\n",
            "lowest:  10\n",
            "average: 55.0\n",
            "items above 90: 1\n"
          ]
        }
      ]
    },
    {
      "cell_type": "code",
      "source": [],
      "metadata": {
        "id": "PzsewWwRdApn"
      },
      "execution_count": null,
      "outputs": []
    }
  ]
}